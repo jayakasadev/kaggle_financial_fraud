{
 "cells": [
  {
   "cell_type": "code",
   "execution_count": 1,
   "metadata": {},
   "outputs": [],
   "source": [
    "# importing utilities\n",
    "import os\n",
    "import sys\n",
    "from datetime import datetime\n",
    "\n",
    "# importing visualization tools\n",
    "import matplotlib.pyplot as plt\n",
    "from mpl_toolkits.mplot3d import Axes3D\n",
    "import seaborn as sns\n",
    "%matplotlib inline\n",
    "sns.set_style('darkgrid')\n",
    "from IPython.display import Image, display\n",
    "\n",
    "# importing data science libraries\n",
    "import pandas as pd"
   ]
  },
  {
   "cell_type": "code",
   "execution_count": 2,
   "metadata": {},
   "outputs": [
    {
     "name": "stdout",
     "output_type": "stream",
     "text": [
      "Sat Apr 21 02:43:23 2018       \r\n",
      "+-----------------------------------------------------------------------------+\r\n",
      "| NVIDIA-SMI 390.48                 Driver Version: 390.48                    |\r\n",
      "|-------------------------------+----------------------+----------------------+\r\n",
      "| GPU  Name        Persistence-M| Bus-Id        Disp.A | Volatile Uncorr. ECC |\r\n",
      "| Fan  Temp  Perf  Pwr:Usage/Cap|         Memory-Usage | GPU-Util  Compute M. |\r\n",
      "|===============================+======================+======================|\r\n",
      "|   0  GeForce GTX 1080    Off  | 00000000:26:00.0  On |                  N/A |\r\n",
      "| 21%   48C    P0    46W / 200W |    838MiB /  8118MiB |      2%      Default |\r\n",
      "+-------------------------------+----------------------+----------------------+\r\n",
      "                                                                               \r\n",
      "+-----------------------------------------------------------------------------+\r\n",
      "| Processes:                                                       GPU Memory |\r\n",
      "|  GPU       PID   Type   Process name                             Usage      |\r\n",
      "|=============================================================================|\r\n",
      "|    0      1221      G   /usr/lib/xorg/Xorg                           455MiB |\r\n",
      "|    0      3071      G   compiz                                       245MiB |\r\n",
      "|    0      3372      G   ...-token=EE11945B5907047A1A75515BC295DE86   134MiB |\r\n",
      "+-----------------------------------------------------------------------------+\r\n"
     ]
    }
   ],
   "source": [
    "!nvidia-smi"
   ]
  },
  {
   "cell_type": "code",
   "execution_count": 3,
   "metadata": {},
   "outputs": [
    {
     "name": "stdout",
     "output_type": "stream",
     "text": [
      "There are  6362620  samples\n",
      "(6362620, 11)\n",
      "(6362620, 22)\n",
      "   step    amount  oldbalanceOrg  newbalanceOrig  oldbalanceDest  \\\n",
      "0     1   9839.64      170136.00       160296.36             0.0   \n",
      "1     1   1864.28       21249.00        19384.72             0.0   \n",
      "2     1    181.00         181.00            0.00             0.0   \n",
      "3     1    181.00         181.00            0.00         21182.0   \n",
      "4     1  11668.14       41554.00        29885.86             0.0   \n",
      "5     1   7817.71       53860.00        46042.29             0.0   \n",
      "6     1   7107.77      183195.00       176087.23             0.0   \n",
      "7     1   7861.64      176087.23       168225.59             0.0   \n",
      "8     1   4024.36        2671.00            0.00             0.0   \n",
      "9     1   5337.77       41720.00        36382.23         41898.0   \n",
      "\n",
      "   newbalanceDest  CASH_IN  CASH_OUT  DEBIT  PAYMENT  TRANSFER  C_orig  \\\n",
      "0            0.00        0         0      0        1         0       1   \n",
      "1            0.00        0         0      0        1         0       1   \n",
      "2            0.00        0         0      0        0         1       1   \n",
      "3            0.00        0         1      0        0         0       1   \n",
      "4            0.00        0         0      0        1         0       1   \n",
      "5            0.00        0         0      0        1         0       1   \n",
      "6            0.00        0         0      0        1         0       1   \n",
      "7            0.00        0         0      0        1         0       1   \n",
      "8            0.00        0         0      0        1         0       1   \n",
      "9        40348.79        0         0      1        0         0       1   \n",
      "\n",
      "   M_orig     orig_id  C_dest  M_dest     dest_id  \n",
      "0       0  1231006815       0       1  1979787155  \n",
      "1       0  1666544295       0       1  2044282225  \n",
      "2       0  1305486145       1       0   553264065  \n",
      "3       0   840083671       1       0    38997010  \n",
      "4       0  2048537720       0       1  1230701703  \n",
      "5       0    90045638       0       1   573487274  \n",
      "6       0   154988899       0       1   408069119  \n",
      "7       0  1912850431       0       1   633326333  \n",
      "8       0  1265012928       0       1  1176932104  \n",
      "9       0   712410124       1       0   195600860  \n"
     ]
    }
   ],
   "source": [
    "fraud_dataset = pd.read_csv('./data/PS_20174392719_1491204439457_log.csv')\n",
    "print(\"There are \", len(fraud_dataset), \" samples\")\n",
    "\n",
    "columns=['dest_type', \"dest_id\"]\n",
    "dest_split = fraud_dataset.nameDest.str.split('(\\d+)').tolist()\n",
    "# print(dest_split)\n",
    "dest_split = pd.DataFrame([x[:2] for x in dest_split], columns=columns)\n",
    "dest_split[columns[1]] = pd.to_numeric(dest_split[columns[1]])\n",
    "# encode categorical attributes into a binary one-hot encoded representation\n",
    "nameDest_categ_transformed = pd.concat([pd.get_dummies(dest_split[columns[0]]), dest_split[columns[1]]], axis = 1)\n",
    "nameDest_categ_transformed = nameDest_categ_transformed.rename(columns = {\"C\":\"C_dest\", \"M\":\"M_dest\"})\n",
    "\n",
    "columns=['orig_type', \"orig_id\"]\n",
    "orig_split = fraud_dataset.nameOrig.str.split('(\\d+)').tolist()\n",
    "orig_split = pd.DataFrame([x[:2] for x in orig_split], columns=columns)\n",
    "# print(orig_split.head(10))\n",
    "orig_split[columns[1]] = pd.to_numeric(orig_split[columns[1]])\n",
    "# encode categorical attributes into a binary one-hot encoded representation\n",
    "orig_type = pd.get_dummies(orig_split[columns[0]])\n",
    "# print(type(orig_split))\n",
    "M_orig = orig_type.copy(deep=True)\n",
    "orig_type = orig_type.rename(columns = {\"C\":\"C_orig\"})\n",
    "M_orig = M_orig.rename(columns = {\"C\":\"M_orig\"})\n",
    "M_orig[:] = 0\n",
    "nameOrig_categ_transformed = pd.concat([orig_type, M_orig, orig_split[columns[1]]], axis = 1)\n",
    "\n",
    "type_categ_transformed = pd.get_dummies(fraud_dataset[\"type\"])\n",
    "\n",
    "transformed_datatset = pd.concat([fraud_dataset, type_categ_transformed, nameOrig_categ_transformed, nameDest_categ_transformed], axis = 1)\n",
    "\n",
    "drop_labels = [\"type\", \"nameOrig\", \"nameDest\", \"isFraud\", \"isFlaggedFraud\"]\n",
    "for label in drop_labels:\n",
    "    transformed_datatset.pop(label)\n",
    "    \n",
    "print(transformed_datatset.shape)\n",
    "print(transformed_datatset.head(10))"
   ]
  },
  {
   "cell_type": "code",
   "execution_count": null,
   "metadata": {},
   "outputs": [],
   "source": []
  }
 ],
 "metadata": {
  "kernelspec": {
   "display_name": "Python 3",
   "language": "python",
   "name": "python3"
  },
  "language_info": {
   "codemirror_mode": {
    "name": "ipython",
    "version": 3
   },
   "file_extension": ".py",
   "mimetype": "text/x-python",
   "name": "python",
   "nbconvert_exporter": "python",
   "pygments_lexer": "ipython3",
   "version": "3.6.5"
  }
 },
 "nbformat": 4,
 "nbformat_minor": 2
}
